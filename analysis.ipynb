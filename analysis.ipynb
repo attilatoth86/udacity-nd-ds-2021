{
 "cells": [
  {
   "cell_type": "markdown",
   "id": "6b246007-b267-4b97-b92d-1b6de9bed4b5",
   "metadata": {},
   "source": [
    "# Business Understanding"
   ]
  },
  {
   "cell_type": "markdown",
   "id": "ed9fb746-b2ec-4f9e-a3af-c267d6519dac",
   "metadata": {},
   "source": [
    "In this project I would like to gain some insight about tech jobs / careers as I plan to shift career in mid-term and Stackoverflow's annual developer survey presents an excellent material for this. In the frame of this analysis, I will try to figure out\n",
    " - What are the different tech roles at all that represent the market?\n",
    " - What career satisfaction can be measured among various tech professionals?\n",
    " - What are the company profiles that employ people who attended bootcamps?"
   ]
  },
  {
   "cell_type": "markdown",
   "id": "feaa213b-d071-4b81-bdcc-a3a2379d8122",
   "metadata": {
    "tags": []
   },
   "source": [
    "# Data Understanding"
   ]
  },
  {
   "cell_type": "markdown",
   "id": "187b4deb-ca7c-4fba-a562-a3fd2a681618",
   "metadata": {},
   "source": [
    "I chose to analyse the provided dataset from Stack Overflow, which is an outcome of an annual survey of people using the site. (I have analysed the survey results of 2017.) The survey covers all sort of information like programming languages, salary, code style and various other information. The dataset I worked with includes more than 64000 responses from 213 countries around the world. The survey has collected significant amount of data points as therein more than 150 question were asked."
   ]
  },
  {
   "cell_type": "code",
   "execution_count": 54,
   "id": "1d00629f-f740-40d6-94c4-5f0dc0947af6",
   "metadata": {},
   "outputs": [],
   "source": [
    "import pandas as pd\n",
    "import matplotlib.pyplot as plt\n",
    "from collections import Counter"
   ]
  },
  {
   "cell_type": "markdown",
   "id": "9ae8d8eb-d2de-4cd2-83ed-22e37be01352",
   "metadata": {},
   "source": [
    "To get a better understanding of the data I used for this analysis, first I look at the data itself."
   ]
  },
  {
   "cell_type": "code",
   "execution_count": 55,
   "id": "a0f148b2-15e1-4f31-a275-53d2b30c88af",
   "metadata": {
    "tags": []
   },
   "outputs": [
    {
     "data": {
      "text/html": [
       "<div>\n",
       "<style scoped>\n",
       "    .dataframe tbody tr th:only-of-type {\n",
       "        vertical-align: middle;\n",
       "    }\n",
       "\n",
       "    .dataframe tbody tr th {\n",
       "        vertical-align: top;\n",
       "    }\n",
       "\n",
       "    .dataframe thead th {\n",
       "        text-align: right;\n",
       "    }\n",
       "</style>\n",
       "<table border=\"1\" class=\"dataframe\">\n",
       "  <thead>\n",
       "    <tr style=\"text-align: right;\">\n",
       "      <th></th>\n",
       "      <th>Respondent</th>\n",
       "      <th>Professional</th>\n",
       "      <th>ProgramHobby</th>\n",
       "      <th>Country</th>\n",
       "      <th>University</th>\n",
       "      <th>EmploymentStatus</th>\n",
       "      <th>FormalEducation</th>\n",
       "      <th>MajorUndergrad</th>\n",
       "      <th>HomeRemote</th>\n",
       "      <th>CompanySize</th>\n",
       "      <th>...</th>\n",
       "      <th>StackOverflowMakeMoney</th>\n",
       "      <th>Gender</th>\n",
       "      <th>HighestEducationParents</th>\n",
       "      <th>Race</th>\n",
       "      <th>SurveyLong</th>\n",
       "      <th>QuestionsInteresting</th>\n",
       "      <th>QuestionsConfusing</th>\n",
       "      <th>InterestedAnswers</th>\n",
       "      <th>Salary</th>\n",
       "      <th>ExpectedSalary</th>\n",
       "    </tr>\n",
       "  </thead>\n",
       "  <tbody>\n",
       "    <tr>\n",
       "      <th>0</th>\n",
       "      <td>1</td>\n",
       "      <td>Student</td>\n",
       "      <td>Yes, both</td>\n",
       "      <td>United States</td>\n",
       "      <td>No</td>\n",
       "      <td>Not employed, and not looking for work</td>\n",
       "      <td>Secondary school</td>\n",
       "      <td>NaN</td>\n",
       "      <td>NaN</td>\n",
       "      <td>NaN</td>\n",
       "      <td>...</td>\n",
       "      <td>Strongly disagree</td>\n",
       "      <td>Male</td>\n",
       "      <td>High school</td>\n",
       "      <td>White or of European descent</td>\n",
       "      <td>Strongly disagree</td>\n",
       "      <td>Strongly agree</td>\n",
       "      <td>Disagree</td>\n",
       "      <td>Strongly agree</td>\n",
       "      <td>NaN</td>\n",
       "      <td>NaN</td>\n",
       "    </tr>\n",
       "    <tr>\n",
       "      <th>1</th>\n",
       "      <td>2</td>\n",
       "      <td>Student</td>\n",
       "      <td>Yes, both</td>\n",
       "      <td>United Kingdom</td>\n",
       "      <td>Yes, full-time</td>\n",
       "      <td>Employed part-time</td>\n",
       "      <td>Some college/university study without earning ...</td>\n",
       "      <td>Computer science or software engineering</td>\n",
       "      <td>More than half, but not all, the time</td>\n",
       "      <td>20 to 99 employees</td>\n",
       "      <td>...</td>\n",
       "      <td>Strongly disagree</td>\n",
       "      <td>Male</td>\n",
       "      <td>A master's degree</td>\n",
       "      <td>White or of European descent</td>\n",
       "      <td>Somewhat agree</td>\n",
       "      <td>Somewhat agree</td>\n",
       "      <td>Disagree</td>\n",
       "      <td>Strongly agree</td>\n",
       "      <td>NaN</td>\n",
       "      <td>37500.0</td>\n",
       "    </tr>\n",
       "    <tr>\n",
       "      <th>2</th>\n",
       "      <td>3</td>\n",
       "      <td>Professional developer</td>\n",
       "      <td>Yes, both</td>\n",
       "      <td>United Kingdom</td>\n",
       "      <td>No</td>\n",
       "      <td>Employed full-time</td>\n",
       "      <td>Bachelor's degree</td>\n",
       "      <td>Computer science or software engineering</td>\n",
       "      <td>Less than half the time, but at least one day ...</td>\n",
       "      <td>10,000 or more employees</td>\n",
       "      <td>...</td>\n",
       "      <td>Disagree</td>\n",
       "      <td>Male</td>\n",
       "      <td>A professional degree</td>\n",
       "      <td>White or of European descent</td>\n",
       "      <td>Somewhat agree</td>\n",
       "      <td>Agree</td>\n",
       "      <td>Disagree</td>\n",
       "      <td>Agree</td>\n",
       "      <td>113750.0</td>\n",
       "      <td>NaN</td>\n",
       "    </tr>\n",
       "    <tr>\n",
       "      <th>3</th>\n",
       "      <td>4</td>\n",
       "      <td>Professional non-developer who sometimes write...</td>\n",
       "      <td>Yes, both</td>\n",
       "      <td>United States</td>\n",
       "      <td>No</td>\n",
       "      <td>Employed full-time</td>\n",
       "      <td>Doctoral degree</td>\n",
       "      <td>A non-computer-focused engineering discipline</td>\n",
       "      <td>Less than half the time, but at least one day ...</td>\n",
       "      <td>10,000 or more employees</td>\n",
       "      <td>...</td>\n",
       "      <td>Disagree</td>\n",
       "      <td>Male</td>\n",
       "      <td>A doctoral degree</td>\n",
       "      <td>White or of European descent</td>\n",
       "      <td>Agree</td>\n",
       "      <td>Agree</td>\n",
       "      <td>Somewhat agree</td>\n",
       "      <td>Strongly agree</td>\n",
       "      <td>NaN</td>\n",
       "      <td>NaN</td>\n",
       "    </tr>\n",
       "    <tr>\n",
       "      <th>4</th>\n",
       "      <td>5</td>\n",
       "      <td>Professional developer</td>\n",
       "      <td>Yes, I program as a hobby</td>\n",
       "      <td>Switzerland</td>\n",
       "      <td>No</td>\n",
       "      <td>Employed full-time</td>\n",
       "      <td>Master's degree</td>\n",
       "      <td>Computer science or software engineering</td>\n",
       "      <td>Never</td>\n",
       "      <td>10 to 19 employees</td>\n",
       "      <td>...</td>\n",
       "      <td>NaN</td>\n",
       "      <td>NaN</td>\n",
       "      <td>NaN</td>\n",
       "      <td>NaN</td>\n",
       "      <td>NaN</td>\n",
       "      <td>NaN</td>\n",
       "      <td>NaN</td>\n",
       "      <td>NaN</td>\n",
       "      <td>NaN</td>\n",
       "      <td>NaN</td>\n",
       "    </tr>\n",
       "  </tbody>\n",
       "</table>\n",
       "<p>5 rows × 154 columns</p>\n",
       "</div>"
      ],
      "text/plain": [
       "   Respondent                                       Professional  \\\n",
       "0           1                                            Student   \n",
       "1           2                                            Student   \n",
       "2           3                             Professional developer   \n",
       "3           4  Professional non-developer who sometimes write...   \n",
       "4           5                             Professional developer   \n",
       "\n",
       "                ProgramHobby         Country      University  \\\n",
       "0                  Yes, both   United States              No   \n",
       "1                  Yes, both  United Kingdom  Yes, full-time   \n",
       "2                  Yes, both  United Kingdom              No   \n",
       "3                  Yes, both   United States              No   \n",
       "4  Yes, I program as a hobby     Switzerland              No   \n",
       "\n",
       "                         EmploymentStatus  \\\n",
       "0  Not employed, and not looking for work   \n",
       "1                      Employed part-time   \n",
       "2                      Employed full-time   \n",
       "3                      Employed full-time   \n",
       "4                      Employed full-time   \n",
       "\n",
       "                                     FormalEducation  \\\n",
       "0                                   Secondary school   \n",
       "1  Some college/university study without earning ...   \n",
       "2                                  Bachelor's degree   \n",
       "3                                    Doctoral degree   \n",
       "4                                    Master's degree   \n",
       "\n",
       "                                  MajorUndergrad  \\\n",
       "0                                            NaN   \n",
       "1       Computer science or software engineering   \n",
       "2       Computer science or software engineering   \n",
       "3  A non-computer-focused engineering discipline   \n",
       "4       Computer science or software engineering   \n",
       "\n",
       "                                          HomeRemote  \\\n",
       "0                                                NaN   \n",
       "1              More than half, but not all, the time   \n",
       "2  Less than half the time, but at least one day ...   \n",
       "3  Less than half the time, but at least one day ...   \n",
       "4                                              Never   \n",
       "\n",
       "                CompanySize  ... StackOverflowMakeMoney Gender  \\\n",
       "0                       NaN  ...      Strongly disagree   Male   \n",
       "1        20 to 99 employees  ...      Strongly disagree   Male   \n",
       "2  10,000 or more employees  ...               Disagree   Male   \n",
       "3  10,000 or more employees  ...               Disagree   Male   \n",
       "4        10 to 19 employees  ...                    NaN    NaN   \n",
       "\n",
       "  HighestEducationParents                          Race         SurveyLong  \\\n",
       "0             High school  White or of European descent  Strongly disagree   \n",
       "1       A master's degree  White or of European descent     Somewhat agree   \n",
       "2   A professional degree  White or of European descent     Somewhat agree   \n",
       "3       A doctoral degree  White or of European descent              Agree   \n",
       "4                     NaN                           NaN                NaN   \n",
       "\n",
       "  QuestionsInteresting QuestionsConfusing InterestedAnswers    Salary  \\\n",
       "0       Strongly agree           Disagree    Strongly agree       NaN   \n",
       "1       Somewhat agree           Disagree    Strongly agree       NaN   \n",
       "2                Agree           Disagree             Agree  113750.0   \n",
       "3                Agree     Somewhat agree    Strongly agree       NaN   \n",
       "4                  NaN                NaN               NaN       NaN   \n",
       "\n",
       "   ExpectedSalary  \n",
       "0             NaN  \n",
       "1         37500.0  \n",
       "2             NaN  \n",
       "3             NaN  \n",
       "4             NaN  \n",
       "\n",
       "[5 rows x 154 columns]"
      ]
     },
     "execution_count": 55,
     "metadata": {},
     "output_type": "execute_result"
    }
   ],
   "source": [
    "df = pd.read_csv(\"data/survey-results-public.csv\")\n",
    "df.head()"
   ]
  },
  {
   "cell_type": "markdown",
   "id": "1833d8ab-993c-4428-9bcc-0ca2a429fab2",
   "metadata": {},
   "source": [
    "Let's get the size of the dataset (we know from the previous preview that it has 154 columns), the number of rows:"
   ]
  },
  {
   "cell_type": "code",
   "execution_count": 56,
   "id": "de163576-5ed3-4b2e-976f-4760b10a63ce",
   "metadata": {
    "tags": []
   },
   "outputs": [
    {
     "data": {
      "text/plain": [
       "51392"
      ]
     },
     "execution_count": 56,
     "metadata": {},
     "output_type": "execute_result"
    }
   ],
   "source": [
    "n_rows = df.shape[0]\n",
    "n_rows"
   ]
  },
  {
   "cell_type": "markdown",
   "id": "010259fc-f0b4-4d85-9d07-1e058d5ccc35",
   "metadata": {},
   "source": [
    "Dealing with missing data is always important in the data science process. Thus below some statistics about this."
   ]
  },
  {
   "cell_type": "code",
   "execution_count": 57,
   "id": "17f9f02b-d7f0-46d6-b4a1-cbbe8160d06b",
   "metadata": {},
   "outputs": [
    {
     "name": "stdout",
     "output_type": "stream",
     "text": [
      "The following columns are completely populated, no missing values identified:\n"
     ]
    },
    {
     "data": {
      "text/plain": [
       "{'Country',\n",
       " 'EmploymentStatus',\n",
       " 'FormalEducation',\n",
       " 'Professional',\n",
       " 'ProgramHobby',\n",
       " 'Respondent',\n",
       " 'University'}"
      ]
     },
     "execution_count": 57,
     "metadata": {},
     "output_type": "execute_result"
    }
   ],
   "source": [
    "no_nulls = set(df.columns[df.isnull().mean()==0])\n",
    "print(\"The following columns are completely populated, no missing values identified:\")\n",
    "no_nulls"
   ]
  },
  {
   "cell_type": "markdown",
   "id": "6ee02517-c929-480f-a9ad-d6b6314994e5",
   "metadata": {},
   "source": [
    "# Prepare"
   ]
  },
  {
   "cell_type": "code",
   "execution_count": 242,
   "id": "6094da6e-1af3-48e1-860a-279a796d4eaf",
   "metadata": {},
   "outputs": [
    {
     "data": {
      "text/plain": [
       "United Kingdom    3301\n",
       "Germany           2767\n",
       "Switzerland        406\n",
       "Austria            334\n",
       "Hungary            234\n",
       "Name: Country, dtype: int64"
      ]
     },
     "execution_count": 242,
     "metadata": {},
     "output_type": "execute_result"
    }
   ],
   "source": [
    "# Filtering for interested regions only:\n",
    "df = df[df.Country.isin(['United Kingdom', 'Switzerland', 'Germany', 'Austria', 'Hungary'])]\n",
    "df.Country.value_counts()"
   ]
  },
  {
   "cell_type": "code",
   "execution_count": 108,
   "id": "97d900bc-21e0-4094-a2ad-d9fa09fff613",
   "metadata": {},
   "outputs": [],
   "source": [
    "# Filtering for non empty Developer Type:\n",
    "df = df[df.DeveloperType.notnull()]"
   ]
  },
  {
   "cell_type": "code",
   "execution_count": 244,
   "id": "a2f0dac6-accc-4ac8-9234-842c71601140",
   "metadata": {},
   "outputs": [
    {
     "data": {
      "text/plain": [
       "{'Other': 578,\n",
       " 'Mobile developer': 1359,\n",
       " 'Graphics programming': 370,\n",
       " 'Desktop applications developer': 2355,\n",
       " 'Web developer': 4852,\n",
       " 'Embedded applications/devices developer': 730,\n",
       " 'DevOps specialist': 797,\n",
       " 'Data scientist': 587,\n",
       " 'Graphic designer': 240,\n",
       " 'Database administrator': 1000,\n",
       " 'Systems administrator': 866,\n",
       " 'Developer with a statistics or mathematics background': 811,\n",
       " 'Machine learning specialist': 259,\n",
       " 'Quality assurance engineer': 225}"
      ]
     },
     "execution_count": 244,
     "metadata": {},
     "output_type": "execute_result"
    }
   ],
   "source": [
    "# Creating stat dictionary about developer types\n",
    "devtyp_list_raw = str(tuple(df.DeveloperType.tolist())) \\\n",
    "    .replace(\";\",\",\")\\\n",
    "    .replace(\"'\",\"\")\\\n",
    "    .replace(\"(\",\"\")\\\n",
    "    .replace(\")\",\"\")\\\n",
    "    .split(\", \")\n",
    "devtyp_list_raw\n",
    "devtyp_dict = dict(Counter(devtyp_list_raw))\n",
    "devtyp_dict"
   ]
  },
  {
   "cell_type": "code",
   "execution_count": 253,
   "id": "08190070-8de9-466c-8433-40c7868e796e",
   "metadata": {},
   "outputs": [],
   "source": [
    "# Getting bootcamp attendees\n",
    "df_bc_attend = df[df.TimeAfterBootcamp.notnull()]"
   ]
  },
  {
   "cell_type": "markdown",
   "id": "55c18d7c-82a6-4966-8333-f961c91cb991",
   "metadata": {},
   "source": [
    "## Question#1: Tech Roles / Developer Types"
   ]
  },
  {
   "cell_type": "code",
   "execution_count": 245,
   "id": "ea178030-4b61-44d2-92f5-6ed8b659db12",
   "metadata": {},
   "outputs": [
    {
     "data": {
      "text/html": [
       "<div>\n",
       "<style scoped>\n",
       "    .dataframe tbody tr th:only-of-type {\n",
       "        vertical-align: middle;\n",
       "    }\n",
       "\n",
       "    .dataframe tbody tr th {\n",
       "        vertical-align: top;\n",
       "    }\n",
       "\n",
       "    .dataframe thead th {\n",
       "        text-align: right;\n",
       "    }\n",
       "</style>\n",
       "<table border=\"1\" class=\"dataframe\">\n",
       "  <thead>\n",
       "    <tr style=\"text-align: right;\">\n",
       "      <th></th>\n",
       "      <th>cnt</th>\n",
       "    </tr>\n",
       "  </thead>\n",
       "  <tbody>\n",
       "    <tr>\n",
       "      <th>Quality assurance engineer</th>\n",
       "      <td>225</td>\n",
       "    </tr>\n",
       "    <tr>\n",
       "      <th>Graphic designer</th>\n",
       "      <td>240</td>\n",
       "    </tr>\n",
       "    <tr>\n",
       "      <th>Machine learning specialist</th>\n",
       "      <td>259</td>\n",
       "    </tr>\n",
       "    <tr>\n",
       "      <th>Graphics programming</th>\n",
       "      <td>370</td>\n",
       "    </tr>\n",
       "    <tr>\n",
       "      <th>Other</th>\n",
       "      <td>578</td>\n",
       "    </tr>\n",
       "    <tr>\n",
       "      <th>Data scientist</th>\n",
       "      <td>587</td>\n",
       "    </tr>\n",
       "    <tr>\n",
       "      <th>Embedded applications/devices developer</th>\n",
       "      <td>730</td>\n",
       "    </tr>\n",
       "    <tr>\n",
       "      <th>DevOps specialist</th>\n",
       "      <td>797</td>\n",
       "    </tr>\n",
       "    <tr>\n",
       "      <th>Developer with a statistics or mathematics background</th>\n",
       "      <td>811</td>\n",
       "    </tr>\n",
       "    <tr>\n",
       "      <th>Systems administrator</th>\n",
       "      <td>866</td>\n",
       "    </tr>\n",
       "    <tr>\n",
       "      <th>Database administrator</th>\n",
       "      <td>1000</td>\n",
       "    </tr>\n",
       "    <tr>\n",
       "      <th>Mobile developer</th>\n",
       "      <td>1359</td>\n",
       "    </tr>\n",
       "    <tr>\n",
       "      <th>Desktop applications developer</th>\n",
       "      <td>2355</td>\n",
       "    </tr>\n",
       "    <tr>\n",
       "      <th>Web developer</th>\n",
       "      <td>4852</td>\n",
       "    </tr>\n",
       "  </tbody>\n",
       "</table>\n",
       "</div>"
      ],
      "text/plain": [
       "                                                     cnt\n",
       "Quality assurance engineer                           225\n",
       "Graphic designer                                     240\n",
       "Machine learning specialist                          259\n",
       "Graphics programming                                 370\n",
       "Other                                                578\n",
       "Data scientist                                       587\n",
       "Embedded applications/devices developer              730\n",
       "DevOps specialist                                    797\n",
       "Developer with a statistics or mathematics back...   811\n",
       "Systems administrator                                866\n",
       "Database administrator                              1000\n",
       "Mobile developer                                    1359\n",
       "Desktop applications developer                      2355\n",
       "Web developer                                       4852"
      ]
     },
     "execution_count": 245,
     "metadata": {},
     "output_type": "execute_result"
    }
   ],
   "source": [
    "# Analysing and sorting\n",
    "df_devtyp = pd.DataFrame.from_dict(devtyp_dict, orient=\"index\")\n",
    "df_devtyp.rename(columns={0: 'cnt'}, inplace=True)\n",
    "df_devtyp.sort_values(\"cnt\", ascending=True, inplace=True)\n",
    "df_devtyp"
   ]
  },
  {
   "cell_type": "code",
   "execution_count": 246,
   "id": "e808a5ee-a6f5-4c19-b1e5-4876d10bbed4",
   "metadata": {},
   "outputs": [
    {
     "data": {
      "text/plain": [
       "<AxesSubplot:>"
      ]
     },
     "execution_count": 246,
     "metadata": {},
     "output_type": "execute_result"
    },
    {
     "data": {
      "image/png": "[encoded data removed]",
      "text/plain": [
       "<Figure size 432x288 with 1 Axes>"
      ]
     },
     "metadata": {
      "needs_background": "light"
     },
     "output_type": "display_data"
    }
   ],
   "source": [
    "# Visualizing\n",
    "(df_devtyp.cnt).plot(kind='barh', legend=None)"
   ]
  },
  {
   "cell_type": "markdown",
   "id": "bc6c8c89-3b78-40d4-84c4-12eac921f245",
   "metadata": {},
   "source": [
    "The vast majority of responders work as Web / Desktop application developer in the selected region. The third most frequent role was the Mobile developer."
   ]
  },
  {
   "cell_type": "markdown",
   "id": "0555eb79-abde-40c3-aaa4-941fd364d2af",
   "metadata": {},
   "source": [
    "## Question#2: Career Satisfaction"
   ]
  },
  {
   "cell_type": "code",
   "execution_count": 248,
   "id": "365b5825-76c5-457b-bd59-a0f9238c7fe4",
   "metadata": {},
   "outputs": [
    {
     "data": {
      "text/plain": [
       "<AxesSubplot:>"
      ]
     },
     "execution_count": 248,
     "metadata": {},
     "output_type": "execute_result"
    },
    {
     "data": {
      "image/png": "[encoded data removed]",
      "text/plain": [
       "<Figure size 432x288 with 1 Axes>"
      ]
     },
     "metadata": {
      "needs_background": "light"
     },
     "output_type": "display_data"
    }
   ],
   "source": [
    "# Visualization of overall career satisfaction score frequency\n",
    "df.CareerSatisfaction.hist()"
   ]
  },
  {
   "cell_type": "markdown",
   "id": "5fbbeb69-0adc-4df0-b552-babb2a68423a",
   "metadata": {},
   "source": [
    "The tendency is very positive, there is a high level of satisfaction in the selected population."
   ]
  },
  {
   "cell_type": "code",
   "execution_count": 249,
   "id": "7bdaa658-fe98-43b2-9e13-6e0d96afca95",
   "metadata": {},
   "outputs": [
    {
     "data": {
      "text/html": [
       "<div>\n",
       "<style scoped>\n",
       "    .dataframe tbody tr th:only-of-type {\n",
       "        vertical-align: middle;\n",
       "    }\n",
       "\n",
       "    .dataframe tbody tr th {\n",
       "        vertical-align: top;\n",
       "    }\n",
       "\n",
       "    .dataframe thead th {\n",
       "        text-align: right;\n",
       "    }\n",
       "</style>\n",
       "<table border=\"1\" class=\"dataframe\">\n",
       "  <thead>\n",
       "    <tr style=\"text-align: right;\">\n",
       "      <th></th>\n",
       "      <th>meanCareerSatisfaction</th>\n",
       "    </tr>\n",
       "  </thead>\n",
       "  <tbody>\n",
       "    <tr>\n",
       "      <th>Quality assurance engineer</th>\n",
       "      <td>7.570136</td>\n",
       "    </tr>\n",
       "    <tr>\n",
       "      <th>Graphic designer</th>\n",
       "      <td>7.476793</td>\n",
       "    </tr>\n",
       "    <tr>\n",
       "      <th>Machine learning specialist</th>\n",
       "      <td>7.629921</td>\n",
       "    </tr>\n",
       "    <tr>\n",
       "      <th>Graphics programming</th>\n",
       "      <td>7.271978</td>\n",
       "    </tr>\n",
       "    <tr>\n",
       "      <th>Other</th>\n",
       "      <td>7.486957</td>\n",
       "    </tr>\n",
       "    <tr>\n",
       "      <th>Data scientist</th>\n",
       "      <td>7.500000</td>\n",
       "    </tr>\n",
       "    <tr>\n",
       "      <th>Embedded applications/devices developer</th>\n",
       "      <td>7.375000</td>\n",
       "    </tr>\n",
       "    <tr>\n",
       "      <th>DevOps specialist</th>\n",
       "      <td>7.544192</td>\n",
       "    </tr>\n",
       "    <tr>\n",
       "      <th>Developer with a statistics or mathematics background</th>\n",
       "      <td>7.387985</td>\n",
       "    </tr>\n",
       "    <tr>\n",
       "      <th>Systems administrator</th>\n",
       "      <td>7.328306</td>\n",
       "    </tr>\n",
       "    <tr>\n",
       "      <th>Database administrator</th>\n",
       "      <td>7.313508</td>\n",
       "    </tr>\n",
       "    <tr>\n",
       "      <th>Mobile developer</th>\n",
       "      <td>7.448480</td>\n",
       "    </tr>\n",
       "    <tr>\n",
       "      <th>Desktop applications developer</th>\n",
       "      <td>7.312017</td>\n",
       "    </tr>\n",
       "    <tr>\n",
       "      <th>Web developer</th>\n",
       "      <td>7.386902</td>\n",
       "    </tr>\n",
       "  </tbody>\n",
       "</table>\n",
       "</div>"
      ],
      "text/plain": [
       "                                                    meanCareerSatisfaction\n",
       "Quality assurance engineer                                        7.570136\n",
       "Graphic designer                                                  7.476793\n",
       "Machine learning specialist                                       7.629921\n",
       "Graphics programming                                              7.271978\n",
       "Other                                                             7.486957\n",
       "Data scientist                                                    7.500000\n",
       "Embedded applications/devices developer                           7.375000\n",
       "DevOps specialist                                                 7.544192\n",
       "Developer with a statistics or mathematics back...                7.387985\n",
       "Systems administrator                                             7.328306\n",
       "Database administrator                                            7.313508\n",
       "Mobile developer                                                  7.448480\n",
       "Desktop applications developer                                    7.312017\n",
       "Web developer                                                     7.386902"
      ]
     },
     "execution_count": 249,
     "metadata": {},
     "output_type": "execute_result"
    }
   ],
   "source": [
    "# Analyse mean career satisfaction scores per developer type\n",
    "dt = []\n",
    "labels = []\n",
    "for idx in df_devtyp.index:\n",
    "    labels.append(idx)\n",
    "    df_filt = df[df.DeveloperType.str.contains(idx)]\n",
    "    dt.append(df_filt.CareerSatisfaction.mean())\n",
    "df_careersat = pd.DataFrame(dt, index=labels)\n",
    "df_careersat.rename(columns={0:\"meanCareerSatisfaction\"}, inplace=True)\n",
    "df_careersat"
   ]
  },
  {
   "cell_type": "code",
   "execution_count": 250,
   "id": "941d7052-bb75-4f14-a289-9ea6d7a1b0c0",
   "metadata": {},
   "outputs": [
    {
     "data": {
      "image/png": "[encoded data removed]",
      "text/plain": [
       "<Figure size 432x288 with 1 Axes>"
      ]
     },
     "metadata": {
      "needs_background": "light"
     },
     "output_type": "display_data"
    }
   ],
   "source": [
    "# Visualizing\n",
    "plt.plot(df_careersat.meanCareerSatisfaction, \n",
    "         df_careersat.index,\n",
    "        'D')\n",
    "plt.grid(axis='y')"
   ]
  },
  {
   "cell_type": "markdown",
   "id": "2ea11a34-09fa-4a79-aeef-0e867f9f1244",
   "metadata": {},
   "source": [
    "In general, I found similar career satisfaction values across the observed disciplines — the means calculated among those responders who reside in the geographical areas of interest vary between 7.27 and 7.63."
   ]
  },
  {
   "cell_type": "markdown",
   "id": "5c7c7cf0-ae36-4fa8-98d5-6b00f4adcac1",
   "metadata": {},
   "source": [
    "## Question#3: Opportunities with Bootcamps"
   ]
  },
  {
   "cell_type": "code",
   "execution_count": 255,
   "id": "fdf8ea20-758b-40e9-991c-13299f13b7e7",
   "metadata": {},
   "outputs": [
    {
     "data": {
      "text/plain": [
       "Privately-held limited company, not in startup mode                      151\n",
       "Publicly-traded corporation                                               53\n",
       "I don't know                                                              14\n",
       "Venture-funded startup                                                    14\n",
       "Government agency or public school/university                             12\n",
       "Sole proprietorship or partnership, not in startup mode                   11\n",
       "Non-profit/non-governmental organization or private school/university      7\n",
       "I prefer not to answer                                                     6\n",
       "Pre-series A startup                                                       4\n",
       "Something else                                                             1\n",
       "State-owned company                                                        1\n",
       "Name: CompanyType, dtype: int64"
      ]
     },
     "execution_count": 255,
     "metadata": {},
     "output_type": "execute_result"
    }
   ],
   "source": [
    "# Analysing bootcamp attendees employers by company type\n",
    "df_bc_attend.CompanyType.value_counts()"
   ]
  },
  {
   "cell_type": "code",
   "execution_count": 257,
   "id": "701432cb-af0a-4f32-ae18-7b8a81efb9ea",
   "metadata": {},
   "outputs": [
    {
     "data": {
      "text/plain": [
       "20 to 99 employees          68\n",
       "100 to 499 employees        56\n",
       "10,000 or more employees    45\n",
       "1,000 to 4,999 employees    28\n",
       "Fewer than 10 employees     27\n",
       "10 to 19 employees          22\n",
       "500 to 999 employees        18\n",
       "5,000 to 9,999 employees     8\n",
       "I don't know                 3\n",
       "Name: CompanySize, dtype: int64"
      ]
     },
     "execution_count": 257,
     "metadata": {},
     "output_type": "execute_result"
    }
   ],
   "source": [
    "# Analysing bootcamp attendees employers by company size\n",
    "df_bc_attend.CompanySize.value_counts()"
   ]
  },
  {
   "cell_type": "markdown",
   "id": "e7b829d9-5802-4f9c-b9b4-faecef1ce8ee",
   "metadata": {},
   "source": [
    "# Evaluation"
   ]
  },
  {
   "cell_type": "markdown",
   "id": "6c283cc6-eb51-403f-a162-7df89470072a",
   "metadata": {},
   "source": [
    "Based on the data I analyzed (responders from the region of UK, Switzerland, Austria, Germany and Hungary),\n",
    "\n",
    " - There are a number of attractive tech disciplines in the region I live, web & desktop application developers along with mobile developers and database admins constitute the largest communities. This may indicate, that the market can be overloaded but it could also be the indicator of higher demand of these disciplines. In Stackoverflow, they are certainly well represented, thus knowledge transfer could be easier.\n",
    " - The general career satisfaction is fairly high which is a good sign for people before career shift. Machine learning specialists seem to be the most satisfied which is not surprising given the news about the ever growing demand in this field.\n",
    " - For bootcamp attendees, the doors for both private and public companies (in various company sizes) seem to be open."
   ]
  }
 ],
 "metadata": {
  "kernelspec": {
   "display_name": "Python 3 (ipykernel)",
   "language": "python",
   "name": "python3"
  },
  "language_info": {
   "codemirror_mode": {
    "name": "ipython",
    "version": 3
   },
   "file_extension": ".py",
   "mimetype": "text/x-python",
   "name": "python",
   "nbconvert_exporter": "python",
   "pygments_lexer": "ipython3",
   "version": "3.9.7"
  }
 },
 "nbformat": 4,
 "nbformat_minor": 5
}
